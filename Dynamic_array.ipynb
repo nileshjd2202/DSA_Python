{
  "nbformat": 4,
  "nbformat_minor": 0,
  "metadata": {
    "colab": {
      "provenance": [],
      "authorship_tag": "ABX9TyMH1Tx887ACTswjGKGqXQ6u",
      "include_colab_link": true
    },
    "kernelspec": {
      "name": "python3",
      "display_name": "Python 3"
    },
    "language_info": {
      "name": "python"
    }
  },
  "cells": [
    {
      "cell_type": "markdown",
      "metadata": {
        "id": "view-in-github",
        "colab_type": "text"
      },
      "source": [
        "<a href=\"https://colab.research.google.com/github/nileshjd2202/DSA_Python/blob/main/Dynamic_array.ipynb\" target=\"_parent\"><img src=\"https://colab.research.google.com/assets/colab-badge.svg\" alt=\"Open In Colab\"/></a>"
      ]
    },
    {
      "cell_type": "markdown",
      "source": [
        "**MyList - Python Dynamic Array Implementation**\n",
        "\n",
        "MyList is a custom dynamic array implementation in Python, inspired by C-style arrays. It supports various list operations while dynamically resizing memory to optimize performance.\n",
        "\n",
        "1. create list\n",
        "2. len\n",
        "3. append\n",
        "4. print\n",
        "5. indexing / negative indexing\n",
        "6. pop\n",
        "7. clear\n",
        "8. find\n",
        "9. insert\n",
        "10. delete\n",
        "11. remove\n",
        "12. max\n",
        "13. min\n",
        "14. sum\n",
        "15. extend\n",
        "16. slicing (Implemented in indexing part)\n",
        "\n",
        "\n",
        "sort/merge/"
      ],
      "metadata": {
        "id": "6GdAIVGZ3pAH"
      }
    },
    {
      "cell_type": "code",
      "execution_count": 1,
      "metadata": {
        "id": "gBC9GltX50K7"
      },
      "outputs": [],
      "source": [
        "import ctypes"
      ]
    },
    {
      "cell_type": "code",
      "source": [
        "class MyList:\n",
        "\n",
        "  def __init__(self) -> None:\n",
        "    self.size = 1\n",
        "    self.n = 0\n",
        "\n",
        "    # Create a C type array with size = self.size\n",
        "    self.A = self.__make_array(self.size)\n",
        "\n",
        "  def __len__(self):\n",
        "    return self.n\n",
        "\n",
        "  def __str__(self) -> str:\n",
        "    # [1, 2, 3]\n",
        "    result = ''\n",
        "\n",
        "    for i in range(self.n):\n",
        "      result = result + str(self.A[i]) + ', '\n",
        "\n",
        "    return '[' + result[:-2] + ']'\n",
        "\n",
        "  def __getitem__(self, index):\n",
        "    # Note:- This part handle the slicing part\n",
        "    if isinstance(index, slice):\n",
        "      # Extract start, stop, step\n",
        "      start, stop, step = index.indices(self.n)\n",
        "\n",
        "      sliced_list = MyList()\n",
        "      for i in range(start, stop, step):\n",
        "          sliced_list.append(self.A[i])  # Use append to handle resizing\n",
        "\n",
        "      return print(sliced_list)  # Return new MyList object\n",
        "\n",
        "    original_index = index\n",
        "    # Note:- Coverting negative index to positive index\n",
        "    if index < 0:\n",
        "      original_index = self.n + index\n",
        "\n",
        "    if 0 <= original_index < self.n:\n",
        "      return self.A[original_index]\n",
        "    else:\n",
        "      return 'IndexError: list index out of range'\n",
        "\n",
        "  def __delitem__(self, index):\n",
        "    # delete\n",
        "    if 0 <= index < self.n:\n",
        "      for i in range(index, self.n-1):\n",
        "        self.A[i] = self.A[i+1]\n",
        "\n",
        "      self.n = self.n - 1\n",
        "\n",
        "  def append(self, item):\n",
        "    if self.size == self.n:\n",
        "      # resize\n",
        "      self.__resize(self.size*2)\n",
        "\n",
        "    # append\n",
        "    self.A[self.n] = item\n",
        "    self.n = self.n + 1\n",
        "\n",
        "  def pop(self):\n",
        "    if self.n == 0:\n",
        "      return 'IndexError: pop from empty list'\n",
        "\n",
        "    print(self.A[self.n-1])\n",
        "    self.n = self.n-1\n",
        "\n",
        "  def clear(self):\n",
        "    self.size = 1\n",
        "    self.n = 0\n",
        "\n",
        "  def find(self, item):\n",
        "\n",
        "    for i in range(self.n):\n",
        "      if self.A[i] == item:\n",
        "        return i\n",
        "\n",
        "    return f'ValueError: {item} is not in list'\n",
        "\n",
        "  def insert(self, index, item):\n",
        "\n",
        "    if self.size == self.n:\n",
        "      self.__resize(self.size*2)\n",
        "\n",
        "    if 0 <= index < self.n:\n",
        "      for i in range(self.n, index, -1):\n",
        "        self.A[i] = self.A[i-1]\n",
        "\n",
        "      self.A[index] = item\n",
        "    else:\n",
        "      self.A[self.n] = item\n",
        "\n",
        "    self.n = self.n + 1\n",
        "\n",
        "  def remove(self, item):\n",
        "    index = self.find(item)\n",
        "\n",
        "    if type(index) == int:\n",
        "      # delete\n",
        "      self.__delitem__(index)\n",
        "    else:\n",
        "      return index\n",
        "\n",
        "  def extend(self, B):\n",
        "    for item in B:\n",
        "      self.append(item)\n",
        "\n",
        "  def sort(self):\n",
        "    # remain\n",
        "    pass\n",
        "\n",
        "  def __iter__(self):  # This allows max(), min(), sum() to work\n",
        "        for i in range(self.n):\n",
        "            yield self.A[i]\n",
        "\n",
        "  def __resize(self, new_capacity):\n",
        "    # create a new array with new capacity\n",
        "    B = self.__make_array(capacity=new_capacity)\n",
        "    self.size = new_capacity\n",
        "\n",
        "    # copy the content of A to B\n",
        "    for i in range(self.n):\n",
        "      B[i] = self.A[i]\n",
        "\n",
        "    # reassign A\n",
        "    self.A = B\n",
        "\n",
        "  def __make_array(self, capacity):\n",
        "    # Create a C type array (static, referential) with size capacity\n",
        "    return (capacity*ctypes.py_object)()"
      ],
      "metadata": {
        "id": "L_El6CV81ruX"
      },
      "execution_count": 137,
      "outputs": []
    },
    {
      "cell_type": "code",
      "source": [],
      "metadata": {
        "id": "F2xifFFoQ_GD"
      },
      "execution_count": null,
      "outputs": []
    },
    {
      "cell_type": "code",
      "source": [
        "# 1. Creating list\n",
        "L = MyList()"
      ],
      "metadata": {
        "id": "MFpViBfm3eY1"
      },
      "execution_count": 163,
      "outputs": []
    },
    {
      "cell_type": "code",
      "source": [
        "L.append(12)\n",
        "L.append(15)\n",
        "L.append(25)\n",
        "L.append(45)\n",
        "L.append(2)"
      ],
      "metadata": {
        "id": "xiswtZ8pHp0u"
      },
      "execution_count": 164,
      "outputs": []
    },
    {
      "cell_type": "code",
      "source": [
        "L[1:-1:3]"
      ],
      "metadata": {
        "colab": {
          "base_uri": "https://localhost:8080/"
        },
        "id": "_rlzHz8el1Oa",
        "outputId": "815c8e89-68f9-40c1-c5a9-ea3549e35e90"
      },
      "execution_count": 155,
      "outputs": [
        {
          "output_type": "stream",
          "name": "stdout",
          "text": [
            "[15]\n"
          ]
        }
      ]
    },
    {
      "cell_type": "code",
      "source": [
        "LL = MyList()"
      ],
      "metadata": {
        "id": "0nOyIDS_F7Cf"
      },
      "execution_count": 165,
      "outputs": []
    },
    {
      "cell_type": "code",
      "source": [
        "LL.append(121)\n",
        "LL.append(323)"
      ],
      "metadata": {
        "id": "AfVxvQUDF_Cc"
      },
      "execution_count": 166,
      "outputs": []
    },
    {
      "cell_type": "code",
      "source": [
        "L + LL"
      ],
      "metadata": {
        "id": "BVOKTMKmSOdH",
        "colab": {
          "base_uri": "https://localhost:8080/",
          "height": 141
        },
        "outputId": "7148c85a-096b-47c3-de66-52ff5ad2e3ec"
      },
      "execution_count": 169,
      "outputs": [
        {
          "output_type": "error",
          "ename": "TypeError",
          "evalue": "unsupported operand type(s) for +: 'MyList' and 'MyList'",
          "traceback": [
            "\u001b[0;31m---------------------------------------------------------------------------\u001b[0m",
            "\u001b[0;31mTypeError\u001b[0m                                 Traceback (most recent call last)",
            "\u001b[0;32m<ipython-input-169-84a396d30f3a>\u001b[0m in \u001b[0;36m<cell line: 0>\u001b[0;34m()\u001b[0m\n\u001b[0;32m----> 1\u001b[0;31m \u001b[0mL\u001b[0m \u001b[0;34m+\u001b[0m \u001b[0mLL\u001b[0m\u001b[0;34m\u001b[0m\u001b[0;34m\u001b[0m\u001b[0m\n\u001b[0m",
            "\u001b[0;31mTypeError\u001b[0m: unsupported operand type(s) for +: 'MyList' and 'MyList'"
          ]
        }
      ]
    },
    {
      "cell_type": "code",
      "source": [
        "lst = [12, 34, 45, 56, 2, 7]"
      ],
      "metadata": {
        "id": "Ehzbq8j1GjwY"
      },
      "execution_count": 156,
      "outputs": []
    },
    {
      "cell_type": "code",
      "source": [
        "lst"
      ],
      "metadata": {
        "colab": {
          "base_uri": "https://localhost:8080/"
        },
        "id": "9iV7O5cIfYrC",
        "outputId": "a7d10203-9134-4bae-ae6a-6ff332bd4090"
      },
      "execution_count": 157,
      "outputs": [
        {
          "output_type": "execute_result",
          "data": {
            "text/plain": [
              "[12, 34, 45, 56, 2, 7]"
            ]
          },
          "metadata": {},
          "execution_count": 157
        }
      ]
    },
    {
      "cell_type": "code",
      "source": [
        "lst"
      ],
      "metadata": {
        "id": "-xo5WAoOVksq",
        "colab": {
          "base_uri": "https://localhost:8080/"
        },
        "outputId": "1b3c6d68-d81a-461a-961a-256c34fd4b1f"
      },
      "execution_count": 161,
      "outputs": [
        {
          "output_type": "execute_result",
          "data": {
            "text/plain": [
              "[12, 34, 45, 56, 2, 7]"
            ]
          },
          "metadata": {},
          "execution_count": 161
        }
      ]
    },
    {
      "cell_type": "code",
      "source": [
        "lst1 = [121, 34, 55]"
      ],
      "metadata": {
        "id": "LXiLuHAQjLfg"
      },
      "execution_count": 158,
      "outputs": []
    },
    {
      "cell_type": "code",
      "source": [
        "lst1"
      ],
      "metadata": {
        "colab": {
          "base_uri": "https://localhost:8080/"
        },
        "id": "Uo72xUEkFkLC",
        "outputId": "5fc6a535-852f-4ac6-fb7a-eef8a9a910e8"
      },
      "execution_count": 160,
      "outputs": [
        {
          "output_type": "execute_result",
          "data": {
            "text/plain": [
              "[121, 34, 55]"
            ]
          },
          "metadata": {},
          "execution_count": 160
        }
      ]
    },
    {
      "cell_type": "code",
      "source": [
        "lst + lst1"
      ],
      "metadata": {
        "id": "ZoO-hMLKLeDE",
        "colab": {
          "base_uri": "https://localhost:8080/"
        },
        "outputId": "0197fbd5-4571-42fb-fb91-e9a1e2eac0fe"
      },
      "execution_count": 159,
      "outputs": [
        {
          "output_type": "execute_result",
          "data": {
            "text/plain": [
              "[12, 34, 45, 56, 2, 7, 121, 34, 55]"
            ]
          },
          "metadata": {},
          "execution_count": 159
        }
      ]
    },
    {
      "cell_type": "code",
      "source": [
        "lst"
      ],
      "metadata": {
        "colab": {
          "base_uri": "https://localhost:8080/"
        },
        "id": "52LS9Tm3GoEl",
        "outputId": "35399f71-248c-49c1-b3aa-758c00a1b691"
      },
      "execution_count": 28,
      "outputs": [
        {
          "output_type": "execute_result",
          "data": {
            "text/plain": [
              "[2, 7, 12, 34, 45, 56, 121, 34, 55]"
            ]
          },
          "metadata": {},
          "execution_count": 28
        }
      ]
    },
    {
      "cell_type": "code",
      "source": [
        "print(dir(lst))"
      ],
      "metadata": {
        "colab": {
          "base_uri": "https://localhost:8080/"
        },
        "id": "PEkMYnA4Gp_T",
        "outputId": "aa8505c3-d75e-4c2f-a678-29aad5e25a69"
      },
      "execution_count": null,
      "outputs": [
        {
          "output_type": "stream",
          "name": "stdout",
          "text": [
            "['__add__', '__class__', '__class_getitem__', '__contains__', '__delattr__', '__delitem__', '__dir__', '__doc__', '__eq__', '__format__', '__ge__', '__getattribute__', '__getitem__', '__getstate__', '__gt__', '__hash__', '__iadd__', '__imul__', '__init__', '__init_subclass__', '__iter__', '__le__', '__len__', '__lt__', '__mul__', '__ne__', '__new__', '__reduce__', '__reduce_ex__', '__repr__', '__reversed__', '__rmul__', '__setattr__', '__setitem__', '__sizeof__', '__str__', '__subclasshook__', 'append', 'clear', 'copy', 'count', 'extend', 'index', 'insert', 'pop', 'remove', 'reverse', 'sort']\n"
          ]
        }
      ]
    }
  ]
}